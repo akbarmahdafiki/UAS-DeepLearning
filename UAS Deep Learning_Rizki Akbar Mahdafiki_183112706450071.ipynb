{
 "cells": [
  {
   "cell_type": "markdown",
   "metadata": {},
   "source": [
    "## Ujian Akhir Semester Deep Learning\n",
    "<div class=\"alert alert-warning\">\n",
    "<p>Nama : Rizki Akbar Mahdafiki</p>\n",
    "<p>NPM : 183112706450071</p>\n",
    "<p>Kelas : R01</p>\n",
    "</div>"
   ]
  },
  {
   "cell_type": "markdown",
   "metadata": {},
   "source": [
    "<div class=\"alert alert-success\">\n",
    "    Studi kasus yang dibahas adalah data stok pasar \"Open\" dari Altaba Inc Fund.\n",
    "    Jumlah data yang digunakan adalah 500 data mulai dari Januari 2006 hingga Desember 2008.\n",
    "    Dataset yang sebenarnya adalah data yang berisi stok pasar mulai dari Januari 2006 hingga Januari 2018.\n",
    "    Namun karena datanya terlalu banyak, jadi saya memperkecil datanya menjadi 500 data.\n",
    "</div>"
   ]
  },
  {
   "cell_type": "markdown",
   "metadata": {},
   "source": [
    "<div class=\"alert alert-success\">\n",
    "    Dataset original yang saya gunakan dapat diakses pada website Kaggle\n",
    "    <pre>kaggle datasets download -d szrlee/stock-time-series-20050101-to-20171231</pre>\n",
    "    Untuk data yang sudah saya edit akan saya cantumkan bersama dengan file ipynb yang saya buat\n",
    "</div>"
   ]
  },
  {
   "cell_type": "markdown",
   "metadata": {},
   "source": [
    "## Import semua library dan dataset yang digunakan\n",
    "Disini saya menggunakan library torch, sklearn, numpy, pandas, dan matplotlib <br>\n",
    "Untuk dataset saya meng-import dari dataset lokal"
   ]
  },
  {
   "cell_type": "code",
   "execution_count": 1,
   "metadata": {},
   "outputs": [
    {
     "name": "stdout",
     "output_type": "stream",
     "text": [
      "500\n"
     ]
    },
    {
     "data": {
      "text/html": [
       "<div>\n",
       "<style scoped>\n",
       "    .dataframe tbody tr th:only-of-type {\n",
       "        vertical-align: middle;\n",
       "    }\n",
       "\n",
       "    .dataframe tbody tr th {\n",
       "        vertical-align: top;\n",
       "    }\n",
       "\n",
       "    .dataframe thead th {\n",
       "        text-align: right;\n",
       "    }\n",
       "</style>\n",
       "<table border=\"1\" class=\"dataframe\">\n",
       "  <thead>\n",
       "    <tr style=\"text-align: right;\">\n",
       "      <th></th>\n",
       "      <th>Open</th>\n",
       "      <th>High</th>\n",
       "      <th>Low</th>\n",
       "      <th>Close</th>\n",
       "      <th>Volume</th>\n",
       "      <th>Name</th>\n",
       "    </tr>\n",
       "    <tr>\n",
       "      <th>Date</th>\n",
       "      <th></th>\n",
       "      <th></th>\n",
       "      <th></th>\n",
       "      <th></th>\n",
       "      <th></th>\n",
       "      <th></th>\n",
       "    </tr>\n",
       "  </thead>\n",
       "  <tbody>\n",
       "    <tr>\n",
       "      <th>2006-01-03</th>\n",
       "      <td>39.69</td>\n",
       "      <td>41.22</td>\n",
       "      <td>38.79</td>\n",
       "      <td>40.91</td>\n",
       "      <td>24232729</td>\n",
       "      <td>AABA</td>\n",
       "    </tr>\n",
       "    <tr>\n",
       "      <th>2006-01-04</th>\n",
       "      <td>41.22</td>\n",
       "      <td>41.90</td>\n",
       "      <td>40.77</td>\n",
       "      <td>40.97</td>\n",
       "      <td>20553479</td>\n",
       "      <td>AABA</td>\n",
       "    </tr>\n",
       "    <tr>\n",
       "      <th>2006-01-05</th>\n",
       "      <td>40.93</td>\n",
       "      <td>41.73</td>\n",
       "      <td>40.85</td>\n",
       "      <td>41.53</td>\n",
       "      <td>12829610</td>\n",
       "      <td>AABA</td>\n",
       "    </tr>\n",
       "    <tr>\n",
       "      <th>2006-01-06</th>\n",
       "      <td>42.88</td>\n",
       "      <td>43.57</td>\n",
       "      <td>42.80</td>\n",
       "      <td>43.21</td>\n",
       "      <td>29422828</td>\n",
       "      <td>AABA</td>\n",
       "    </tr>\n",
       "    <tr>\n",
       "      <th>2006-01-09</th>\n",
       "      <td>43.10</td>\n",
       "      <td>43.66</td>\n",
       "      <td>42.82</td>\n",
       "      <td>43.42</td>\n",
       "      <td>16268338</td>\n",
       "      <td>AABA</td>\n",
       "    </tr>\n",
       "  </tbody>\n",
       "</table>\n",
       "</div>"
      ],
      "text/plain": [
       "             Open   High    Low  Close    Volume  Name\n",
       "Date                                                  \n",
       "2006-01-03  39.69  41.22  38.79  40.91  24232729  AABA\n",
       "2006-01-04  41.22  41.90  40.77  40.97  20553479  AABA\n",
       "2006-01-05  40.93  41.73  40.85  41.53  12829610  AABA\n",
       "2006-01-06  42.88  43.57  42.80  43.21  29422828  AABA\n",
       "2006-01-09  43.10  43.66  42.82  43.42  16268338  AABA"
      ]
     },
     "execution_count": 1,
     "metadata": {},
     "output_type": "execute_result"
    }
   ],
   "source": [
    "import torch\n",
    "import torch.nn as nn\n",
    "from sklearn.preprocessing import MinMaxScaler\n",
    "\n",
    "import numpy as np\n",
    "import pandas as pd\n",
    "import matplotlib.pyplot as plt\n",
    "%matplotlib inline\n",
    "\n",
    "from pandas.plotting import register_matplotlib_converters\n",
    "register_matplotlib_converters()\n",
    "\n",
    "df = pd.read_csv('AABA_2006-01-01_to_2018-01-01_edited.csv',index_col=0,parse_dates=True)\n",
    "df.dropna(inplace=True)\n",
    "print(len(df)) #Banyak data\n",
    "df.head()"
   ]
  },
  {
   "cell_type": "markdown",
   "metadata": {},
   "source": [
    "<div class=\"alert alert-success\">\n",
    "    Berikutnya menampilkan data dari dataset dalam bentuk diagram\n",
    "</div>"
   ]
  },
  {
   "cell_type": "code",
   "execution_count": 29,
   "metadata": {},
   "outputs": [
    {
     "data": {
      "image/png": "[encoded data removed]",
      "text/plain": [
       "<Figure size 1152x288 with 1 Axes>"
      ]
     },
     "metadata": {
      "needs_background": "light"
     },
     "output_type": "display_data"
    }
   ],
   "source": [
    "plt.figure(figsize=(16,4))\n",
    "plt.title('Altaba Inc Fund')\n",
    "plt.ylabel('Stok pasar \"Open\"')\n",
    "plt.grid(True)\n",
    "plt.autoscale(axis='x',tight=True)\n",
    "plt.plot(df['Open'])\n",
    "plt.show()"
   ]
  },
  {
   "cell_type": "markdown",
   "metadata": {},
   "source": [
    "## Membagi data kedalam \"train\" dan uji coba set"
   ]
  },
  {
   "cell_type": "code",
   "execution_count": 3,
   "metadata": {},
   "outputs": [],
   "source": [
    "y = df['Open'].values.astype(float)\n",
    "\n",
    "test_size = 12\n",
    "window_size = 12\n",
    "\n",
    "train_set = y[:-test_size]\n",
    "test_set = y[-test_size:]"
   ]
  },
  {
   "cell_type": "code",
   "execution_count": 4,
   "metadata": {},
   "outputs": [
    {
     "name": "stdout",
     "output_type": "stream",
     "text": [
      "Train: 488\n",
      "Test:  12\n"
     ]
    }
   ],
   "source": [
    "print(f'Train: {len(train_set)}')\n",
    "print(f'Test:  {len(test_set)}')"
   ]
  },
  {
   "cell_type": "markdown",
   "metadata": {},
   "source": [
    "## Normalisasi dataset training"
   ]
  },
  {
   "cell_type": "code",
   "execution_count": 5,
   "metadata": {},
   "outputs": [],
   "source": [
    "scaler = MinMaxScaler(feature_range=(-1, 1))\n",
    "\n",
    "train_norm = scaler.fit_transform(train_set.reshape(-1, 1))"
   ]
  },
  {
   "cell_type": "code",
   "execution_count": 6,
   "metadata": {},
   "outputs": [
    {
     "name": "stdout",
     "output_type": "stream",
     "text": [
      "First item, original: 39.69\n",
      "First item, scaled:  [0.66909267]\n"
     ]
    }
   ],
   "source": [
    "print(f'First item, original: {train_set[0]}')\n",
    "print(f'First item, scaled:  {train_norm[0]}')"
   ]
  },
  {
   "cell_type": "markdown",
   "metadata": {},
   "source": [
    "## Menyiapkan data untuk model LSTM"
   ]
  },
  {
   "cell_type": "code",
   "execution_count": 7,
   "metadata": {},
   "outputs": [],
   "source": [
    "train_norm = torch.FloatTensor(train_norm).view(-1)\n",
    "\n",
    "def input_data(seq,ws):\n",
    "    out = []\n",
    "    L = len(seq)\n",
    "    for i in range(L-ws):\n",
    "        window = seq[i:i+ws]\n",
    "        label = seq[i+ws:i+ws+1]\n",
    "        out.append((window,label))\n",
    "    return out"
   ]
  },
  {
   "cell_type": "code",
   "execution_count": 8,
   "metadata": {},
   "outputs": [
    {
     "name": "stdout",
     "output_type": "stream",
     "text": [
      "Train_data: 476\n"
     ]
    }
   ],
   "source": [
    "train_data = input_data(train_norm,window_size)\n",
    "print(f'Train_data: {len(train_data)}')"
   ]
  },
  {
   "cell_type": "markdown",
   "metadata": {},
   "source": [
    "## Mendefinisikan model LSTM dan mengembalikan nilai akhir yang diprediksi"
   ]
  },
  {
   "cell_type": "code",
   "execution_count": 9,
   "metadata": {},
   "outputs": [],
   "source": [
    "class LSTMnetwork(nn.Module):\n",
    "    \n",
    "    def __init__(self,input_size=1,hidden_size=64,output_size=1):\n",
    "        super().__init__()\n",
    "        self.hidden_size = hidden_size\n",
    "\n",
    "        self.lstm = nn.LSTM(input_size,hidden_size)\n",
    "\n",
    "        self.linear = nn.Linear(hidden_size,output_size)\n",
    "\n",
    "        self.hidden = (torch.zeros(1,1,self.hidden_size),\n",
    "                       torch.zeros(1,1,self.hidden_size))\n",
    "\n",
    "    def forward(self,seq):\n",
    "        lstm_out, self.hidden = self.lstm(\n",
    "            seq.view(len(seq),1,-1), self.hidden)\n",
    "        \n",
    "        pred = self.linear(lstm_out.view(len(seq),-1))\n",
    "        return pred[-1] "
   ]
  },
  {
   "cell_type": "code",
   "execution_count": 10,
   "metadata": {},
   "outputs": [
    {
     "data": {
      "text/plain": [
       "LSTMnetwork(\n",
       "  (lstm): LSTM(1, 64)\n",
       "  (linear): Linear(in_features=64, out_features=1, bias=True)\n",
       ")"
      ]
     },
     "execution_count": 10,
     "metadata": {},
     "output_type": "execute_result"
    }
   ],
   "source": [
    "torch.manual_seed(101)\n",
    "model = LSTMnetwork()\n",
    "model"
   ]
  },
  {
   "cell_type": "markdown",
   "metadata": {},
   "source": [
    "## Mendefinisikan fungsi data \"loss\" dan fungsi untuk optimasi"
   ]
  },
  {
   "cell_type": "code",
   "execution_count": 11,
   "metadata": {},
   "outputs": [
    {
     "name": "stdout",
     "output_type": "stream",
     "text": [
      "   256\n",
      " 16384\n",
      "   256\n",
      "   256\n",
      "    64\n",
      "     1\n",
      "______\n",
      " 17217\n"
     ]
    }
   ],
   "source": [
    "torch.manual_seed(101)\n",
    "model = LSTMnetwork()\n",
    "\n",
    "criterion = nn.MSELoss()\n",
    "optimizer = torch.optim.Adam(model.parameters(), lr=0.001)\n",
    "\n",
    "model\n",
    "\n",
    "def count_parameters(model):\n",
    "    params = [p.numel() for p in model.parameters() if p.requires_grad]\n",
    "    for item in params:\n",
    "        print(f'{item:>6}')\n",
    "    print(f'______\\n{sum(params):>6}')\n",
    "    \n",
    "count_parameters(model)"
   ]
  },
  {
   "cell_type": "markdown",
   "metadata": {},
   "source": [
    "## Latih data atau \"train\" model\n",
    "Setiap epoch ditampilkan agar mengetahui progress dari training datanya"
   ]
  },
  {
   "cell_type": "code",
   "execution_count": 12,
   "metadata": {},
   "outputs": [
    {
     "name": "stdout",
     "output_type": "stream",
     "text": [
      "Epoch:  1 Loss: 0.01526192\n",
      "Epoch:  2 Loss: 0.00420195\n",
      "Epoch:  3 Loss: 0.00040416\n",
      "Epoch:  4 Loss: 0.00012715\n",
      "Epoch:  5 Loss: 0.00004574\n",
      "Epoch:  6 Loss: 0.00000623\n",
      "Epoch:  7 Loss: 0.00000000\n",
      "Epoch:  8 Loss: 0.00000117\n",
      "Epoch:  9 Loss: 0.00000015\n",
      "Epoch: 10 Loss: 0.00000926\n",
      "Epoch: 11 Loss: 0.00014006\n",
      "Epoch: 12 Loss: 0.00022498\n",
      "Epoch: 13 Loss: 0.00033939\n",
      "Epoch: 14 Loss: 0.00042763\n",
      "Epoch: 15 Loss: 0.00054837\n",
      "Epoch: 16 Loss: 0.00064141\n",
      "Epoch: 17 Loss: 0.00072473\n",
      "Epoch: 18 Loss: 0.00079775\n",
      "Epoch: 19 Loss: 0.00087113\n",
      "Epoch: 20 Loss: 0.00095809\n",
      "Epoch: 21 Loss: 0.00100713\n",
      "Epoch: 22 Loss: 0.00109764\n",
      "Epoch: 23 Loss: 0.00118879\n",
      "Epoch: 24 Loss: 0.00128144\n",
      "Epoch: 25 Loss: 0.00130221\n",
      "Epoch: 26 Loss: 0.00140666\n",
      "Epoch: 27 Loss: 0.00148395\n",
      "Epoch: 28 Loss: 0.00149432\n",
      "Epoch: 29 Loss: 0.00156669\n",
      "Epoch: 30 Loss: 0.00169525\n",
      "Epoch: 31 Loss: 0.00172285\n",
      "Epoch: 32 Loss: 0.00172136\n",
      "Epoch: 33 Loss: 0.00185676\n",
      "Epoch: 34 Loss: 0.00197251\n",
      "Epoch: 35 Loss: 0.00211870\n",
      "Epoch: 36 Loss: 0.00254369\n",
      "Epoch: 37 Loss: 0.00343644\n",
      "Epoch: 38 Loss: 0.00476386\n",
      "Epoch: 39 Loss: 0.00440110\n",
      "Epoch: 40 Loss: 0.00513075\n",
      "Epoch: 41 Loss: 0.00343781\n",
      "Epoch: 42 Loss: 0.00336750\n",
      "Epoch: 43 Loss: 0.00365028\n",
      "Epoch: 44 Loss: 0.00400746\n",
      "Epoch: 45 Loss: 0.00372963\n",
      "Epoch: 46 Loss: 0.00352210\n",
      "Epoch: 47 Loss: 0.00282434\n",
      "Epoch: 48 Loss: 0.00168016\n",
      "Epoch: 49 Loss: 0.00286801\n",
      "Epoch: 50 Loss: 0.00222904\n",
      "\n",
      "Duration: 495 seconds\n"
     ]
    }
   ],
   "source": [
    "epochs = 50\n",
    "\n",
    "import time\n",
    "start_time = time.time()\n",
    "\n",
    "for epoch in range(epochs):\n",
    "    \n",
    "    for seq, y_train in train_data:\n",
    "        \n",
    "        optimizer.zero_grad()\n",
    "        model.hidden = (torch.zeros(1,1,model.hidden_size),\n",
    "                        torch.zeros(1,1,model.hidden_size))\n",
    "        \n",
    "        y_pred = model(seq)\n",
    "        \n",
    "        loss = criterion(y_pred, y_train)\n",
    "        loss.backward()\n",
    "        optimizer.step()\n",
    "        \n",
    "    print(f'Epoch: {epoch+1:2} Loss: {loss.item():10.8f}')\n",
    "    \n",
    "print(f'\\nDuration: {time.time() - start_time:.0f} seconds')\n"
   ]
  },
  {
   "cell_type": "markdown",
   "metadata": {},
   "source": [
    "## Evaluasi model menggunakan dataset tes"
   ]
  },
  {
   "cell_type": "code",
   "execution_count": 13,
   "metadata": {},
   "outputs": [],
   "source": [
    "future = 12\n",
    "preds = train_norm[-window_size:].tolist()\n",
    "\n",
    "model.eval()\n",
    "\n",
    "for i in range(future):\n",
    "    seq = torch.FloatTensor(preds[-window_size:])\n",
    "    with torch.no_grad():\n",
    "        model.hidden = (torch.zeros(1,1,model.hidden_size),\n",
    "                        torch.zeros(1,1,model.hidden_size))\n",
    "        preds.append(model(seq).item())"
   ]
  },
  {
   "cell_type": "code",
   "execution_count": 14,
   "metadata": {},
   "outputs": [
    {
     "data": {
      "text/plain": [
       "[-0.6847975850105286,\n",
       " -0.673287570476532,\n",
       " -0.6553864479064941,\n",
       " -0.6469815969467163,\n",
       " -0.6341017484664917,\n",
       " -0.6236813068389893,\n",
       " -0.6090002655982971,\n",
       " -0.591974139213562,\n",
       " -0.5780948996543884,\n",
       " -0.5619645714759827,\n",
       " -0.5485721826553345,\n",
       " -0.5349909663200378]"
      ]
     },
     "execution_count": 14,
     "metadata": {},
     "output_type": "execute_result"
    }
   ],
   "source": [
    "# Run the code below to check your results:\n",
    "preds[window_size:]"
   ]
  },
  {
   "cell_type": "markdown",
   "metadata": {},
   "source": [
    "## Nilai yang sudah diprediksi akan diubah atau di skala ulang"
   ]
  },
  {
   "cell_type": "code",
   "execution_count": 30,
   "metadata": {},
   "outputs": [],
   "source": [
    "data_prediksi = scaler.inverse_transform(np.array(preds[window_size:]).reshape(-1, 1))"
   ]
  },
  {
   "cell_type": "code",
   "execution_count": 31,
   "metadata": {},
   "outputs": [
    {
     "data": {
      "text/plain": [
       "array([[25.73816089],\n",
       "       [25.85677159],\n",
       "       [26.04124265],\n",
       "       [26.12785464],\n",
       "       [26.26058148],\n",
       "       [26.36796413],\n",
       "       [26.51925226],\n",
       "       [26.6947065 ],\n",
       "       [26.83773206],\n",
       "       [27.00395509],\n",
       "       [27.14196366],\n",
       "       [27.28191809]])"
      ]
     },
     "execution_count": 31,
     "metadata": {},
     "output_type": "execute_result"
    }
   ],
   "source": [
    "data_prediksi"
   ]
  },
  {
   "cell_type": "markdown",
   "metadata": {},
   "source": [
    "## Membandingkan data asli dengan data prediksi"
   ]
  },
  {
   "cell_type": "code",
   "execution_count": 25,
   "metadata": {},
   "outputs": [
    {
     "data": {
      "text/plain": [
       "array(['2006-07-01', '2006-08-01', '2006-09-01', '2006-10-01',\n",
       "       '2006-11-01', '2006-12-01', '2007-01-01', '2007-02-01',\n",
       "       '2007-03-01', '2007-04-01', '2007-05-01', '2007-06-01'],\n",
       "      dtype='datetime64[D]')"
      ]
     },
     "execution_count": 25,
     "metadata": {},
     "output_type": "execute_result"
    }
   ],
   "source": [
    "x = np.arange('2006-07-01', '2007-07-01', dtype='datetime64[M]').astype('datetime64[D]')\n",
    "x"
   ]
  },
  {
   "cell_type": "markdown",
   "metadata": {},
   "source": [
    "<div class=\"alert alert-success\">\n",
    "    Berikut adalah hasil dari perbandingan dataset asli dengan dataset prediksi\n",
    "</div>"
   ]
  },
  {
   "cell_type": "code",
   "execution_count": 33,
   "metadata": {},
   "outputs": [
    {
     "data": {
      "image/png": "[encoded data removed]",
      "text/plain": [
       "<Figure size 1152x288 with 1 Axes>"
      ]
     },
     "metadata": {
      "needs_background": "light"
     },
     "output_type": "display_data"
    }
   ],
   "source": [
    "plt.figure(figsize=(16,4))\n",
    "plt.title('Altaba Inc Fund')\n",
    "plt.ylabel('Stok pasar \"Open\"')\n",
    "plt.grid(True)\n",
    "plt.autoscale(axis='x',tight=True)\n",
    "plt.plot(df['Open'])\n",
    "plt.plot(x, data_prediksi)\n",
    "plt.show()"
   ]
  }
 ],
 "metadata": {
  "kernelspec": {
   "display_name": "Python 3",
   "language": "python",
   "name": "python3"
  },
  "language_info": {
   "codemirror_mode": {
    "name": "ipython",
    "version": 3
   },
   "file_extension": ".py",
   "mimetype": "text/x-python",
   "name": "python",
   "nbconvert_exporter": "python",
   "pygments_lexer": "ipython3",
   "version": "3.7.11"
  }
 },
 "nbformat": 4,
 "nbformat_minor": 2
}
